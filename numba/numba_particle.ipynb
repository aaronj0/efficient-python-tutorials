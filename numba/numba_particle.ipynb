{
 "cells": [
  {
   "cell_type": "markdown",
   "metadata": {},
   "source": [
    "### Extending Numba to Support a Custom Particle Class\n",
    "\n",
    "In this notebook, we'll extend Numba to support a custom Particle class. This involves allowing:\n",
    "\n",
    "- Passing an instance of the class to a Numba function.\n",
    "- Accessing attributes of the class in a Numba function.\n",
    "- Constructing and returning a new instance of the class from a Numba function.\n",
    "\n",
    "We'll accomplish this by mixing high-level and low-level extension APIs provided by Numba.\n",
    "\n",
    "https://numba.readthedocs.io/en/stable/extending/index.html"
   ]
  },
  {
   "cell_type": "markdown",
   "metadata": {},
   "source": [
    "**Step 1: Defining the Custom Particle Class**\n",
    "\n",
    "First, we define a simple Python class Particle, which represents a charged particle in an electric field. The class has two attributes: q (charge) and E (electric field). We also define a property force, which calculates the force on the particle using the formula F = q.E"
   ]
  },
  {
   "cell_type": "code",
   "execution_count": 4,
   "metadata": {},
   "outputs": [],
   "source": [
    "import numpy as np\n",
    "\n",
    "class Particle(object):\n",
    "    \"\"\"\n",
    "    A charged particle in an electric field.\n",
    "    \"\"\"\n",
    "    def __init__(self, q, E):\n",
    "        self.q = q\n",
    "        self.E = E\n",
    "\n",
    "    def __repr__(self):\n",
    "        return 'Particle(%f, %f)' % (self.q, self.E)\n",
    "\n",
    "    @property\n",
    "    def force(self):\n",
    "        return np.dot(self.E, self.q)"
   ]
  },
  {
   "cell_type": "markdown",
   "metadata": {},
   "source": [
    "**Step 2: Creating a Numba Type for the Particle Class**\n",
    "\n",
    "Numba uses its own type system, so we need to create a new Numba type for the Particle class. This is done by subclassing `types.Type` and creating an instance of this type."
   ]
  },
  {
   "cell_type": "code",
   "execution_count": 5,
   "metadata": {},
   "outputs": [],
   "source": [
    "from numba import types\n",
    "\n",
    "class ParticleType(types.Type):\n",
    "    def __init__(self):\n",
    "        super(ParticleType, self).__init__(name='Particle')\n",
    "\n",
    "particle_type = ParticleType()\n"
   ]
  },
  {
   "cell_type": "markdown",
   "metadata": {},
   "source": [
    "Here, `ParticleType` is a custom type that Numba will recognize as representing instances of the Particle class."
   ]
  },
  {
   "cell_type": "markdown",
   "metadata": {},
   "source": [
    "**Step 3: Type Inference for Python Values**\n",
    "\n",
    "Next, we teach Numba how to infer that instances of Particle should be treated as our custom particle_type."
   ]
  },
  {
   "cell_type": "code",
   "execution_count": 6,
   "metadata": {},
   "outputs": [],
   "source": [
    "from numba.extending import typeof_impl\n",
    "\n",
    "@typeof_impl.register(Particle)\n",
    "def typeof_index(val, c):\n",
    "    return particle_type"
   ]
  },
  {
   "cell_type": "markdown",
   "metadata": {},
   "source": [
    "This allows Numba to recognize function arguments and global values as particle_type when they are instances of Particle."
   ]
  },
  {
   "cell_type": "markdown",
   "metadata": {},
   "source": [
    "**Step 4: Type Inference for the Constructor**\n",
    "\n",
    "We also need to teach Numba to recognize the constructor for the Particle class, specifically the Particle(q, E) constructor where q and E are floating-point numbers."
   ]
  },
  {
   "cell_type": "code",
   "execution_count": 7,
   "metadata": {},
   "outputs": [],
   "source": [
    "from numba.extending import type_callable\n",
    "\n",
    "@type_callable(Particle)\n",
    "def type_particle(context):\n",
    "    def typer(q, E):\n",
    "        if isinstance(q, types.Float) and isinstance(E, types.Float):\n",
    "            return particle_type\n",
    "    return typer"
   ]
  },
  {
   "cell_type": "markdown",
   "metadata": {},
   "source": [
    "The type_callable decorator allows us to specify a function that will be called during type inference for the Particle constructor."
   ]
  },
  {
   "cell_type": "markdown",
   "metadata": {},
   "source": [
    "**Step 5: Defining the Data Model for Particle**\n",
    "\n",
    "In nopython mode, Numba uses native data representations instead of Python objects. We define a data model for the Particle class using a structure with fields q and E, both of type float64."
   ]
  },
  {
   "cell_type": "code",
   "execution_count": 8,
   "metadata": {},
   "outputs": [],
   "source": [
    "from numba.extending import models, register_model\n",
    "\n",
    "@register_model(ParticleType)\n",
    "class ParticleModel(models.StructModel):\n",
    "    def __init__(self, dmm, fe_type):\n",
    "        members = [\n",
    "            ('q', types.float64),\n",
    "            ('E', types.float64),\n",
    "            ]\n",
    "        models.StructModel.__init__(self, dmm, fe_type, members)"
   ]
  },
  {
   "cell_type": "markdown",
   "metadata": {},
   "source": [
    "This structure allows Numba to store instances of Particle as a simple struct with two double-precision floating-point fields."
   ]
  },
  {
   "cell_type": "markdown",
   "metadata": {},
   "source": [
    "**Step 6: Exposing Attributes to Numba Functions**\n",
    "\n",
    "We expose the q and E attributes of the Particle class to Numba functions using make_attribute_wrapper."
   ]
  },
  {
   "cell_type": "code",
   "execution_count": 9,
   "metadata": {},
   "outputs": [],
   "source": [
    "from numba.extending import make_attribute_wrapper\n",
    "\n",
    "make_attribute_wrapper(ParticleType, 'q', 'q')\n",
    "make_attribute_wrapper(ParticleType, 'E', 'E')"
   ]
  },
  {
   "cell_type": "markdown",
   "metadata": {},
   "source": [
    "This allows these attributes to be accessed in read-only mode within Numba functions."
   ]
  },
  {
   "cell_type": "markdown",
   "metadata": {},
   "source": [
    "**Step 7: Exposing the Force Property**\n",
    "\n",
    "The force property is computed rather than stored, so we need to implement it explicitly for use in Numba functions."
   ]
  },
  {
   "cell_type": "code",
   "execution_count": 10,
   "metadata": {},
   "outputs": [],
   "source": [
    "from numba.extending import overload_attribute\n",
    "\n",
    "@overload_attribute(ParticleType, \"force\")\n",
    "def get_force(particle):\n",
    "    def getter(particle):\n",
    "        return particle.E * particle.q\n",
    "    return getter"
   ]
  },
  {
   "cell_type": "markdown",
   "metadata": {},
   "source": [
    "The overload_attribute decorator is a high-level API that combines type inference and code generation."
   ]
  },
  {
   "cell_type": "markdown",
   "metadata": {},
   "source": [
    "**Step 8: Implementing the Particle Constructor**\n",
    "\n",
    "We implement the two-argument Particle constructor for use in Numba functions."
   ]
  },
  {
   "cell_type": "code",
   "execution_count": 11,
   "metadata": {},
   "outputs": [],
   "source": [
    "from numba.extending import lower_builtin\n",
    "from numba.core import cgutils\n",
    "\n",
    "@lower_builtin(Particle, types.Float, types.Float)\n",
    "def impl_particle(context, builder, sig, args):\n",
    "    typ = sig.return_type\n",
    "    q, E = args\n",
    "    particle = cgutils.create_struct_proxy(typ)(context, builder)\n",
    "    particle.q = q\n",
    "    particle.E = E\n",
    "    return particle._getvalue()"
   ]
  },
  {
   "cell_type": "markdown",
   "metadata": {},
   "source": [
    "This code generates the LLVM code needed to create a Particle object from its components in a Numba function."
   ]
  },
  {
   "cell_type": "markdown",
   "metadata": {},
   "source": [
    "**Step 9: Unboxing and Boxing**\n",
    "\n",
    "Unboxing is the process of converting a Python object to a native Numba value, while boxing does the reverse. We define these operations to allow Numba to convert between Python Particle objects and native Particle structures."
   ]
  },
  {
   "cell_type": "code",
   "execution_count": 12,
   "metadata": {},
   "outputs": [],
   "source": [
    "from numba.extending import unbox, NativeValue\n",
    "\n",
    "@unbox(ParticleType)\n",
    "def unbox_particle(typ, obj, c):\n",
    "    \"\"\"\n",
    "    Convert a Particle object to a native particle structure.\n",
    "    \"\"\"\n",
    "    q_obj = c.pyapi.object_getattr_string(obj, \"q\")\n",
    "    E_obj = c.pyapi.object_getattr_string(obj, \"E\")\n",
    "    particle = cgutils.create_struct_proxy(typ)(c.context, c.builder)\n",
    "    particle.q = c.pyapi.float_as_double(q_obj)\n",
    "    particle.E = c.pyapi.float_as_double(E_obj)\n",
    "    c.pyapi.decref(q_obj)\n",
    "    c.pyapi.decref(E_obj)\n",
    "    is_error = cgutils.is_not_null(c.builder, c.pyapi.err_occurred())\n",
    "    return NativeValue(particle._getvalue(), is_error=is_error)"
   ]
  },
  {
   "cell_type": "code",
   "execution_count": 13,
   "metadata": {},
   "outputs": [],
   "source": [
    "from numba.extending import box\n",
    "\n",
    "@box(ParticleType)\n",
    "def box_particle(typ, val, c):\n",
    "    \"\"\"\n",
    "    Convert a native particle structure to an Particle object.\n",
    "    \"\"\"\n",
    "    particle = cgutils.create_struct_proxy(typ)(c.context, c.builder, value=val)\n",
    "    q_obj = c.pyapi.float_from_double(particle.q)\n",
    "    E_obj = c.pyapi.float_from_double(particle.E)\n",
    "    class_obj = c.pyapi.unserialize(c.pyapi.serialize_object(Particle))\n",
    "    res = c.pyapi.call_function_objargs(class_obj, (q_obj, E_obj))\n",
    "    c.pyapi.decref(q_obj)\n",
    "    c.pyapi.decref(E_obj)\n",
    "    c.pyapi.decref(class_obj)\n",
    "    return res"
   ]
  },
  {
   "cell_type": "markdown",
   "metadata": {},
   "source": [
    "**Step 10: Using the Particle Class in Numba Functions**\n",
    "\n",
    "Finally, we can now use the Particle class in Numba-compiled functions. Below are examples of such functions:\n",
    "Example: Calculating Force"
   ]
  },
  {
   "cell_type": "markdown",
   "metadata": {},
   "source": [
    "Example: Calculating Force"
   ]
  },
  {
   "cell_type": "code",
   "execution_count": 18,
   "metadata": {},
   "outputs": [],
   "source": []
  },
  {
   "cell_type": "markdown",
   "metadata": {},
   "source": [
    "Example: Summing Two Particles"
   ]
  },
  {
   "cell_type": "code",
   "execution_count": 21,
   "metadata": {},
   "outputs": [],
   "source": []
  },
  {
   "cell_type": "markdown",
   "metadata": {},
   "source": [
    "We can test our implementation by creating Particle objects and using them in Numba functions:"
   ]
  },
  {
   "cell_type": "code",
   "execution_count": null,
   "metadata": {},
   "outputs": [],
   "source": []
  }
 ],
 "metadata": {
  "kernelspec": {
   "display_name": ".sys_venv",
   "language": "python",
   "name": "python3"
  },
  "language_info": {
   "codemirror_mode": {
    "name": "ipython",
    "version": 3
   },
   "file_extension": ".py",
   "mimetype": "text/x-python",
   "name": "python",
   "nbconvert_exporter": "python",
   "pygments_lexer": "ipython3",
   "version": "3.12.1"
  }
 },
 "nbformat": 4,
 "nbformat_minor": 2
}
