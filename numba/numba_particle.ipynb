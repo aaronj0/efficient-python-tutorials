{
 "cells": [
  {
   "cell_type": "code",
   "execution_count": null,
   "metadata": {},
   "outputs": [],
   "source": [
    "import numpy as np\n",
    "\n",
    "class Particle(object):\n",
    "    \"\"\"\n",
    "    A charged particle in an electric field.\n",
    "    \"\"\"\n",
    "    def __init__(self, q, E):\n",
    "        self.q = q\n",
    "        self.E = E\n",
    "\n",
    "    def __repr__(self):\n",
    "        return 'Particle(%f, %f)' % (self.q, self.E)\n",
    "\n",
    "    @property\n",
    "    def force(self):\n",
    "        return np.dot(self.E, self.q)\n"
   ]
  },
  {
   "cell_type": "markdown",
   "metadata": {},
   "source": [
    "# Add comments on the API"
   ]
  },
  {
   "cell_type": "code",
   "execution_count": null,
   "metadata": {},
   "outputs": [],
   "source": [
    "from numba import types\n",
    "\n",
    "class ParticleType(types.Type):\n",
    "    def __init__(self):\n",
    "        super(ParticleType, self).__init__(name='Particle')\n",
    "\n",
    "particle_type = ParticleType()\n"
   ]
  },
  {
   "cell_type": "code",
   "execution_count": null,
   "metadata": {},
   "outputs": [],
   "source": [
    "from numba.extending import typeof_impl\n",
    "\n",
    "@typeof_impl.register(Particle)\n",
    "def typeof_index(val, c):\n",
    "    return particle_type"
   ]
  },
  {
   "cell_type": "code",
   "execution_count": null,
   "metadata": {},
   "outputs": [],
   "source": [
    "from numba.extending import type_callable\n",
    "\n",
    "@type_callable(Particle)\n",
    "def type_particle(context):\n",
    "    def typer(q, E):\n",
    "        if isinstance(q, types.Float) and isinstance(E, types.Float):\n",
    "            return particle_type\n",
    "    return typer"
   ]
  },
  {
   "cell_type": "code",
   "execution_count": null,
   "metadata": {},
   "outputs": [],
   "source": [
    "from numba.extending import models, register_model\n",
    "\n",
    "@register_model(ParticleType)\n",
    "class ParticleModel(models.StructModel):\n",
    "    def __init__(self, dmm, fe_type):\n",
    "        members = [\n",
    "            ('q', types.float64),\n",
    "            ('E', types.float64),\n",
    "            ]\n",
    "        models.StructModel.__init__(self, dmm, fe_type, members)"
   ]
  },
  {
   "cell_type": "code",
   "execution_count": null,
   "metadata": {},
   "outputs": [],
   "source": [
    "from numba.extending import make_attribute_wrapper\n",
    "\n",
    "make_attribute_wrapper(ParticleType, 'q', 'q')\n",
    "make_attribute_wrapper(ParticleType, 'E', 'E')"
   ]
  },
  {
   "cell_type": "code",
   "execution_count": null,
   "metadata": {},
   "outputs": [],
   "source": [
    "from numba.extending import overload_attribute\n",
    "\n",
    "@overload_attribute(ParticleType, \"force\")\n",
    "def get_force(particle):\n",
    "    def getter(particle):\n",
    "        return particle.E * particle.q\n",
    "    return getter"
   ]
  },
  {
   "cell_type": "code",
   "execution_count": null,
   "metadata": {},
   "outputs": [],
   "source": [
    "from numba.extending import lower_builtin\n",
    "from numba.core import cgutils\n",
    "\n",
    "@lower_builtin(Particle, types.Float, types.Float)\n",
    "def impl_particle(context, builder, sig, args):\n",
    "    typ = sig.return_type\n",
    "    q, E = args\n",
    "    particle = cgutils.create_struct_proxy(typ)(context, builder)\n",
    "    particle.q = q\n",
    "    particle.E = E\n",
    "    return particle._getvalue()"
   ]
  },
  {
   "cell_type": "code",
   "execution_count": null,
   "metadata": {},
   "outputs": [],
   "source": [
    "from numba.extending import unbox, NativeValue\n",
    "\n",
    "@unbox(ParticleType)\n",
    "def unbox_particle(typ, obj, c):\n",
    "    \"\"\"\n",
    "    Convert a Particle object to a native particle structure.\n",
    "    \"\"\"\n",
    "    q_obj = c.pyapi.object_getattr_string(obj, \"q\")\n",
    "    E_obj = c.pyapi.object_getattr_string(obj, \"E\")\n",
    "    particle = cgutils.create_struct_proxy(typ)(c.context, c.builder)\n",
    "    particle.q = c.pyapi.float_as_double(q_obj)\n",
    "    particle.E = c.pyapi.float_as_double(E_obj)\n",
    "    c.pyapi.decref(q_obj)\n",
    "    c.pyapi.decref(E_obj)\n",
    "    is_error = cgutils.is_not_null(c.builder, c.pyapi.err_occurred())\n",
    "    return NativeValue(particle._getvalue(), is_error=is_error)"
   ]
  },
  {
   "cell_type": "code",
   "execution_count": null,
   "metadata": {},
   "outputs": [],
   "source": [
    "from numba.extending import box\n",
    "\n",
    "@box(ParticleType)\n",
    "def box_particle(typ, val, c):\n",
    "    \"\"\"\n",
    "    Convert a native particle structure to an Particle object.\n",
    "    \"\"\"\n",
    "    particle = cgutils.create_struct_proxy(typ)(c.context, c.builder, value=val)\n",
    "    q_obj = c.pyapi.float_from_double(particle.q)\n",
    "    E_obj = c.pyapi.float_from_double(particle.E)\n",
    "    class_obj = c.pyapi.unserialize(c.pyapi.serialize_object(Particle))\n",
    "    res = c.pyapi.call_function_objargs(class_obj, (q_obj, E_obj))\n",
    "    c.pyapi.decref(q_obj)\n",
    "    c.pyapi.decref(E_obj)\n",
    "    c.pyapi.decref(class_obj)\n",
    "    return res"
   ]
  },
  {
   "cell_type": "code",
   "execution_count": null,
   "metadata": {},
   "outputs": [],
   "source": [
    "from numba import jit\n",
    "\n",
    "# @jit(nopython=True)\n",
    "# def inside_particle(particle, x):\n",
    "#     return particle.q <= x < particle.E\n",
    "\n",
    "@jit(nopython=True)\n",
    "def particle_force(particle):\n",
    "    return particle.force\n",
    "\n",
    "@jit(nopython=True)\n",
    "def sum_particles(i, j):\n",
    "    return Particle(i.q + j.q, i.E + j.E)"
   ]
  },
  {
   "cell_type": "code",
   "execution_count": null,
   "metadata": {},
   "outputs": [],
   "source": [
    "import numpy as np\n",
    "print(sum_particles(Particle(1, 2), Particle(2, 6)))"
   ]
  },
  {
   "cell_type": "code",
   "execution_count": null,
   "metadata": {},
   "outputs": [],
   "source": [
    "print(particle_force(Particle(5, 10)))"
   ]
  },
  {
   "cell_type": "code",
   "execution_count": null,
   "metadata": {},
   "outputs": [],
   "source": []
  }
 ],
 "metadata": {
  "kernelspec": {
   "display_name": ".sys_venv",
   "language": "python",
   "name": "python3"
  },
  "language_info": {
   "codemirror_mode": {
    "name": "ipython",
    "version": 3
   },
   "file_extension": ".py",
   "mimetype": "text/x-python",
   "name": "python",
   "nbconvert_exporter": "python",
   "pygments_lexer": "ipython3",
   "version": "3.12.3"
  }
 },
 "nbformat": 4,
 "nbformat_minor": 2
}
