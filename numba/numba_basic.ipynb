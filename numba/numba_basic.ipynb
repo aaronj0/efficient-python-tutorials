{
 "cells": [
  {
   "cell_type": "code",
   "execution_count": 1,
   "metadata": {},
   "outputs": [],
   "source": [
    "from numba import jit\n",
    "import numpy as np\n",
    "import time\n",
    "################ Pure Python ###############\n",
    "# Function is not compiled and runs in byte code\n",
    "def python_trace(a):\n",
    "    trace = 0.0\n",
    "    for i in range(a.shape[0]):\n",
    "        trace += np.tanh(a[i, i])\n",
    "    return a + trace\n"
   ]
  },
  {
   "cell_type": "code",
   "execution_count": 2,
   "metadata": {},
   "outputs": [],
   "source": [
    "################ Numba ###############\n",
    "# Function is compiled and runs in machine code\n",
    "@jit(nopython=True) # <--------------- Numba decorator\n",
    "def numba_trace(a):\n",
    "    trace = 0.0\n",
    "    for i in range(a.shape[0]):\n",
    "        trace += np.tanh(a[i, i])\n",
    "    return a + trace"
   ]
  },
  {
   "cell_type": "code",
   "execution_count": 3,
   "metadata": {},
   "outputs": [],
   "source": [
    "x = np.random.rand(100,100)"
   ]
  },
  {
   "cell_type": "code",
   "execution_count": 4,
   "metadata": {},
   "outputs": [
    {
     "name": "stdout",
     "output_type": "stream",
     "text": [
      "CPU times: user 1.41 s, sys: 17.1 ms, total: 1.42 s\n",
      "Wall time: 405 ms\n"
     ]
    },
    {
     "data": {
      "text/plain": [
       "array([[45.00117695, 45.40615077, 45.84281113, ..., 45.42475777,\n",
       "        45.46019224, 45.07311551],\n",
       "       [45.75557008, 44.9514531 , 45.10743309, ..., 45.73538339,\n",
       "        44.98134267, 45.82383864],\n",
       "       [45.14951293, 45.34624588, 45.89572805, ..., 45.29192572,\n",
       "        45.25532091, 45.73589068],\n",
       "       ...,\n",
       "       [45.5149149 , 45.55785516, 45.18141423, ..., 45.87580545,\n",
       "        45.37979148, 45.76496928],\n",
       "       [45.50736554, 45.38626693, 45.84615668, ..., 45.85398976,\n",
       "        45.035848  , 45.74804314],\n",
       "       [45.59778675, 45.13451265, 45.84708884, ..., 45.48008762,\n",
       "        45.567107  , 45.40221395]])"
      ]
     },
     "execution_count": 4,
     "metadata": {},
     "output_type": "execute_result"
    }
   ],
   "source": [
    "%%time\n",
    "\n",
    "#   Warmup the function\n",
    "numba_trace(x)"
   ]
  },
  {
   "cell_type": "code",
   "execution_count": 5,
   "metadata": {},
   "outputs": [
    {
     "name": "stdout",
     "output_type": "stream",
     "text": [
      "73.8 μs ± 508 ns per loop (mean ± std. dev. of 7 runs, 10,000 loops each)\n"
     ]
    }
   ],
   "source": [
    "%%timeit\n",
    "python_trace(x)"
   ]
  },
  {
   "cell_type": "code",
   "execution_count": 7,
   "metadata": {},
   "outputs": [
    {
     "name": "stdout",
     "output_type": "stream",
     "text": [
      "CPU times: user 23 μs, sys: 2 μs, total: 25 μs\n",
      "Wall time: 26.5 μs\n"
     ]
    },
    {
     "data": {
      "text/plain": [
       "array([[45.00117695, 45.40615077, 45.84281113, ..., 45.42475777,\n",
       "        45.46019224, 45.07311551],\n",
       "       [45.75557008, 44.9514531 , 45.10743309, ..., 45.73538339,\n",
       "        44.98134267, 45.82383864],\n",
       "       [45.14951293, 45.34624588, 45.89572805, ..., 45.29192572,\n",
       "        45.25532091, 45.73589068],\n",
       "       ...,\n",
       "       [45.5149149 , 45.55785516, 45.18141423, ..., 45.87580545,\n",
       "        45.37979148, 45.76496928],\n",
       "       [45.50736554, 45.38626693, 45.84615668, ..., 45.85398976,\n",
       "        45.035848  , 45.74804314],\n",
       "       [45.59778675, 45.13451265, 45.84708884, ..., 45.48008762,\n",
       "        45.567107  , 45.40221395]])"
      ]
     },
     "execution_count": 7,
     "metadata": {},
     "output_type": "execute_result"
    }
   ],
   "source": [
    "%%time\n",
    "numba_trace(x)"
   ]
  },
  {
   "cell_type": "code",
   "execution_count": null,
   "metadata": {},
   "outputs": [],
   "source": []
  }
 ],
 "metadata": {
  "kernelspec": {
   "display_name": ".sys_venv",
   "language": "python",
   "name": "python3"
  },
  "language_info": {
   "codemirror_mode": {
    "name": "ipython",
    "version": 3
   },
   "file_extension": ".py",
   "mimetype": "text/x-python",
   "name": "python",
   "nbconvert_exporter": "python",
   "pygments_lexer": "ipython3",
   "version": "3.12.3"
  }
 },
 "nbformat": 4,
 "nbformat_minor": 2
}
