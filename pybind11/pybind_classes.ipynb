{
 "cells": [
  {
   "cell_type": "markdown",
   "metadata": {},
   "source": [
    "What about classes?"
   ]
  },
  {
   "cell_type": "code",
   "execution_count": null,
   "metadata": {},
   "outputs": [],
   "source": [
    "%%writefile VectorClass.hpp\n",
    "#pragma once\n",
    "\n",
    "class Vector2D {\n",
    "    double x;\n",
    "    double y;\n",
    "    \n",
    "public:\n",
    "\n",
    "    Vector2D(double x, double y): x(x), y(y) {}\n",
    "    \n",
    "    float get_x() const {\n",
    "        return x;\n",
    "    }\n",
    "    \n",
    "    float get_y() const {\n",
    "        return y;\n",
    "    }\n",
    "    \n",
    "    void set_x(float val) {\n",
    "        x = val;\n",
    "    }\n",
    "    \n",
    "    void set_y(float val) {\n",
    "        y = val;\n",
    "    }\n",
    "\n",
    "    \n",
    "    Vector2D& operator+= (const Vector2D& other) {\n",
    "        x += other.x;\n",
    "        y += other.y;\n",
    "        return *this;\n",
    "    }\n",
    "    \n",
    "    Vector2D operator+ (const Vector2D& other) const {\n",
    "        return Vector2D(x + other.x, y + other.y);\n",
    "    }\n",
    "};"
   ]
  },
  {
   "cell_type": "markdown",
   "metadata": {},
   "source": [
    "We now have a header file with a simple 2D vector class with `double` x and y"
   ]
  },
  {
   "cell_type": "markdown",
   "metadata": {},
   "source": []
  },
  {
   "cell_type": "markdown",
   "metadata": {},
   "source": []
  }
 ],
 "metadata": {
  "kernelspec": {
   "display_name": ".sys_venv",
   "language": "python",
   "name": "python3"
  },
  "language_info": {
   "codemirror_mode": {
    "name": "ipython",
    "version": 3
   },
   "file_extension": ".py",
   "mimetype": "text/x-python",
   "name": "python",
   "nbconvert_exporter": "python",
   "pygments_lexer": "ipython3",
   "version": "3.12.3"
  }
 },
 "nbformat": 4,
 "nbformat_minor": 2
}
