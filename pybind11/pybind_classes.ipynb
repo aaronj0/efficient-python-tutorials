{
 "cells": [
  {
   "cell_type": "code",
   "execution_count": null,
   "metadata": {},
   "outputs": [],
   "source": [
    "import pybind11\n",
    "import sys\n",
    "\n",
    "from pybind11 import get_include"
   ]
  },
  {
   "cell_type": "code",
   "execution_count": null,
   "metadata": {},
   "outputs": [],
   "source": [
    "inc = \"-I \" + get_include()\n",
    "plat = \"-undefined dynamic_lookup\" if \"darwin\" in sys.platform else \"-fPIC\"\n",
    "pyinc = !python3-config --cflags\n",
    "\n",
    "print(f\"{inc = }\\n\")\n",
    "print(f\"{plat = }\\n\")\n",
    "print(f\"{pyinc.s = }\\n\")"
   ]
  },
  {
   "cell_type": "markdown",
   "metadata": {},
   "source": [
    "What about classes?"
   ]
  },
  {
   "cell_type": "code",
   "execution_count": null,
   "metadata": {},
   "outputs": [],
   "source": [
    "%%writefile VectorClass.hpp\n",
    "#pragma once\n",
    "\n",
    "class Vector2D {\n",
    "    double x;\n",
    "    double y;\n",
    "    \n",
    "public:\n",
    "\n",
    "    Vector2D(double x, double y): x(x), y(y) {}\n",
    "    \n",
    "    float get_x() const {\n",
    "        return x;\n",
    "    }\n",
    "    \n",
    "    float get_y() const {\n",
    "        return y;\n",
    "    }\n",
    "    \n",
    "    void set_x(float val) {\n",
    "        x = val;\n",
    "    }\n",
    "    \n",
    "    void set_y(float val) {\n",
    "        y = val;\n",
    "    }\n",
    "\n",
    "    \n",
    "    Vector2D& operator+= (const Vector2D& other) {\n",
    "        x += other.x;\n",
    "        y += other.y;\n",
    "        return *this;\n",
    "    }\n",
    "    \n",
    "    Vector2D operator+ (const Vector2D& other) const {\n",
    "        return Vector2D(x + other.x, y + other.y);\n",
    "    }\n",
    "};"
   ]
  },
  {
   "cell_type": "markdown",
   "metadata": {},
   "source": [
    "Our binding code shows a couple more features:"
   ]
  },
  {
   "cell_type": "code",
   "execution_count": null,
   "metadata": {},
   "outputs": [],
   "source": [
    "%%writefile vectorclass.cpp\n",
    "\n",
    "#include <pybind11/pybind11.h>\n",
    "#include <pybind11/operators.h>\n",
    "#include \"VectorClass.hpp\"\n",
    "\n",
    "namespace py = pybind11;\n",
    "using namespace pybind11::literals;\n",
    "\n",
    "PYBIND11_MODULE(vectorclass, m) {\n",
    "    py::class_<Vector2D>(m, \"Vector2D\")\n",
    "        .def(py::init<double, double>(), \"x\"_a, \"y\"_a)\n",
    "        .def_property(\"x\", &Vector2D::get_x, &Vector2D::set_x)\n",
    "        .def_property(\"y\", &Vector2D::get_y, &Vector2D::set_y)\n",
    "        .def(py::self += py::self)\n",
    "        .def(py::self + py::self)\n",
    "        .def(\"__repr__\", [](py::object self){\n",
    "            return py::str(\"{0.__class__.__name__}({0.x}, {0.y})\").format(self);\n",
    "        })\n",
    "    ;\n",
    "}"
   ]
  },
  {
   "cell_type": "code",
   "execution_count": null,
   "metadata": {},
   "outputs": [],
   "source": [
    "!c++ -std=c++11 vectorclass.cpp -shared {inc} {pyinc.s} -o vectorclass.so {plat}"
   ]
  },
  {
   "cell_type": "code",
   "execution_count": null,
   "metadata": {},
   "outputs": [],
   "source": [
    "import vectorclass\n",
    "\n",
    "v = vectorclass.Vector2D(1, 2)\n",
    "print(f\"{v.x = }, {v.y = }\")"
   ]
  }
 ],
 "metadata": {
  "kernelspec": {
   "display_name": ".sys_venv",
   "language": "python",
   "name": "python3"
  },
  "language_info": {
   "codemirror_mode": {
    "name": "ipython",
    "version": 3
   },
   "file_extension": ".py",
   "mimetype": "text/x-python",
   "name": "python",
   "nbconvert_exporter": "python",
   "pygments_lexer": "ipython3",
   "version": "3.12.1"
  }
 },
 "nbformat": 4,
 "nbformat_minor": 2
}
