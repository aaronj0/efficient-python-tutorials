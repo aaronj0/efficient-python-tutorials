{
 "cells": [
  {
   "cell_type": "markdown",
   "metadata": {},
   "source": [
    "## Memory usage optimization"
   ]
  },
  {
   "cell_type": "markdown",
   "metadata": {},
   "source": [
    "Generally, NumPy implements its operations elementwise and require array shapes to be compatible"
   ]
  },
  {
   "cell_type": "code",
   "execution_count": 1,
   "metadata": {},
   "outputs": [
    {
     "name": "stdout",
     "output_type": "stream",
     "text": [
      "Array A:\n",
      " [[1 2 3]\n",
      " [4 5 6]]\n",
      "Array B:\n",
      " [[10 20 30]\n",
      " [40 50 60]]\n",
      "Elementwise Addition (A + B):\n",
      " [[11 22 33]\n",
      " [44 55 66]]\n",
      "Elementwise Multiplication (A * B):\n",
      " [[ 10  40  90]\n",
      " [160 250 360]]\n"
     ]
    }
   ],
   "source": [
    "import numpy as np\n",
    "\n",
    "# Define two arrays\n",
    "A = np.array([[1, 2, 3],\n",
    "              [4, 5, 6]])\n",
    "\n",
    "B = np.array([[10, 20, 30],\n",
    "              [40, 50, 60]])\n",
    "\n",
    "# Perform elementwise addition\n",
    "C = A + B\n",
    "\n",
    "# Perform elementwise multiplication\n",
    "D = A * B\n",
    "\n",
    "print(\"Array A:\\n\", A)\n",
    "print(\"Array B:\\n\", B)\n",
    "print(\"Elementwise Addition (A + B):\\n\", C)\n",
    "print(\"Elementwise Multiplication (A * B):\\n\", D)"
   ]
  },
  {
   "cell_type": "markdown",
   "metadata": {},
   "source": [
    "However, in practice under certain conditions, it is possible to do operations on arrays of different shapes. NumPy expands the arrays such that the operation becomes viable|"
   ]
  },
  {
   "cell_type": "code",
   "execution_count": 2,
   "metadata": {},
   "outputs": [
    {
     "data": {
      "text/plain": [
       "array([5, 6, 7])"
      ]
     },
     "execution_count": 2,
     "metadata": {},
     "output_type": "execute_result"
    }
   ],
   "source": [
    "import numpy as np\n",
    "a = np.array([1, 2, 3])\n",
    "b = 4\n",
    "a + b"
   ]
  },
  {
   "cell_type": "markdown",
   "metadata": {},
   "source": [
    "![img](assets/broadcast.svg)\n",
    "\n",
    "Broadcasting Rules\n",
    "\n",
    "- Dimensions match when they are equal, or when either is 1 or None.\n",
    "\n",
    "- In the latter case, the dimension of the output array is expanded to the larger of the two.\n",
    "\n",
    "- Broadcasted arrays are never physically constructed, which saves memory.\n",
    "\n",
    "Broadcasting provides a means of vectorizing array operations so that looping occurs in C instead of Python. It does this without making needless copies of data and usually leads to efficient algorithm implementations."
   ]
  },
  {
   "cell_type": "markdown",
   "metadata": {},
   "source": [
    "### Cache effects\n",
    "\n",
    "Memory access is cheaper when it is grouped: accessing a big array in a continuous way is much faster than random access. \n",
    "\n",
    "This implies amongst other things that **smaller** strides are faster:"
   ]
  },
  {
   "cell_type": "code",
   "execution_count": 3,
   "metadata": {},
   "outputs": [
    {
     "name": "stdout",
     "output_type": "stream",
     "text": [
      "19.6 ms ± 717 μs per loop (mean ± std. dev. of 7 runs, 10 loops each)\n",
      "3.31 ms ± 187 μs per loop (mean ± std. dev. of 7 runs, 100 loops each)\n"
     ]
    },
    {
     "data": {
      "text/plain": [
       "(80000000, 8)"
      ]
     },
     "execution_count": 3,
     "metadata": {},
     "output_type": "execute_result"
    }
   ],
   "source": [
    "c = np.random.random((1, 10000000))\n",
    "\n",
    "%timeit c.sum(axis=0)\n",
    "# 1 loops, best of 3: 3.89 s per loop\n",
    "\n",
    "%timeit c.sum(axis=1)\n",
    "# 1 loops, best of 3: 188 ms per loop\n",
    "\n",
    "c.strides"
   ]
  },
  {
   "cell_type": "markdown",
   "metadata": {},
   "source": [
    "### Temporary arrays\n",
    "\n",
    "- In complex expressions, NumPy stores intermediate values in temporary arrays\n",
    "\n",
    "- Memory consumption can be higher than expected\n"
   ]
  },
  {
   "cell_type": "code",
   "execution_count": 4,
   "metadata": {},
   "outputs": [
    {
     "name": "stdout",
     "output_type": "stream",
     "text": [
      "17.7 s ± 983 ms per loop (mean ± std. dev. of 7 runs, 1 loop each)\n"
     ]
    }
   ],
   "source": [
    "a = np.random.random((10240, 1024, 50))\n",
    "b = np.random.random((10240, 1024, 50))\n",
    "\n",
    "# four temporary arrays will be created, and from which two are due to unnecessary parenthesis\n",
    "%timeit c = (2.0 * a - 4.5 * b) + (np.sin(a) + np.cos(b))\n",
    "\n",
    "# solution\n",
    "# apply the operation one by one for really large arrays"
   ]
  },
  {
   "cell_type": "code",
   "execution_count": 5,
   "metadata": {},
   "outputs": [
    {
     "name": "stdout",
     "output_type": "stream",
     "text": [
      "16.7 s ± 273 ms per loop (mean ± std. dev. of 7 runs, 1 loop each)\n"
     ]
    }
   ],
   "source": [
    "%%timeit\n",
    "\n",
    "c = 2.0 * a\n",
    "c = c - 4.5 * b\n",
    "c = c + np.sin(a)\n",
    "c = c + np.cos(b)"
   ]
  },
  {
   "cell_type": "markdown",
   "metadata": {},
   "source": [
    "Broadcasting approaches can lead also to hidden temporary arrays\n",
    "\n",
    "- Input data M x 3 array\n",
    "\n",
    "- Output data M x M array\n",
    "\n",
    "- There is a temporary M x M x 3 array\n"
   ]
  },
  {
   "cell_type": "code",
   "execution_count": 6,
   "metadata": {},
   "outputs": [],
   "source": [
    "M = 10000\n",
    "X = np.random.random((M, 3))\n",
    "D = np.sqrt(((X[:, np.newaxis, :] - X) ** 2).sum(axis=-1))"
   ]
  },
  {
   "cell_type": "code",
   "execution_count": null,
   "metadata": {},
   "outputs": [],
   "source": []
  }
 ],
 "metadata": {
  "kernelspec": {
   "display_name": ".sys_venv",
   "language": "python",
   "name": "python3"
  },
  "language_info": {
   "codemirror_mode": {
    "name": "ipython",
    "version": 3
   },
   "file_extension": ".py",
   "mimetype": "text/x-python",
   "name": "python",
   "nbconvert_exporter": "python",
   "pygments_lexer": "ipython3",
   "version": "3.12.3"
  }
 },
 "nbformat": 4,
 "nbformat_minor": 2
}
