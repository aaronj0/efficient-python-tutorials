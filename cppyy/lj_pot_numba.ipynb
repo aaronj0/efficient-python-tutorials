{
 "cells": [
  {
   "cell_type": "markdown",
   "metadata": {},
   "source": [
    "## Cppyy + Numba? "
   ]
  },
  {
   "cell_type": "code",
   "execution_count": null,
   "metadata": {},
   "outputs": [],
   "source": [
    "import numba\n",
    "import cppyy\n",
    "import cppyy.numba_ext"
   ]
  },
  {
   "cell_type": "markdown",
   "metadata": {},
   "source": [
    "An experimental feature that combines the best of both worlds"
   ]
  },
  {
   "cell_type": "code",
   "execution_count": null,
   "metadata": {},
   "outputs": [],
   "source": [
    "cppyy.cppdef(\"\"\"\n",
    "#include <vector>\n",
    "struct Atom {\n",
    "float x;\n",
    "float y;\n",
    "float z;\n",
    "};\n",
    "std::vector<Atom> atoms = {{1, 2, 3}, {2, 3, 4}, {3, 4, 5}, {4, 5, 6}, {5, 6, 7}};\n",
    "\"\"\")"
   ]
  },
  {
   "cell_type": "code",
   "execution_count": null,
   "metadata": {},
   "outputs": [],
   "source": [
    "@numba.njit\n",
    "def lj_numba_scalar(r):\n",
    "    sr6 = (1./r)**6\n",
    "    pot = 4.*(sr6*sr6 - sr6)\n",
    "    return pot"
   ]
  },
  {
   "cell_type": "markdown",
   "metadata": {},
   "source": [
    "JIT compile a Python function with Cppyy C++ objects in them"
   ]
  },
  {
   "cell_type": "code",
   "execution_count": null,
   "metadata": {},
   "outputs": [],
   "source": [
    "@numba.njit\n",
    "def distance_numba_scalar(atom1, atom2): # The arguments here are structs\n",
    "    dx = atom2.x - atom1.x\n",
    "    dy = atom2.y - atom1.y\n",
    "    dz = atom2.z - atom1.z\n",
    "    r = (dx * dx + dy * dy + dz * dz) ** 0.5\n",
    "    return r"
   ]
  },
  {
   "cell_type": "code",
   "execution_count": null,
   "metadata": {},
   "outputs": [],
   "source": [
    "@numba.njit\n",
    "def distance_numba_python(atom1, atom2): # The arguments here are structs\n",
    "    dx = atom2[0] - atom1[0]\n",
    "    dy = atom2[1] - atom1[1]\n",
    "    dz = atom2[2] - atom1[2]\n",
    "    r = (dx * dx + dy * dy + dz * dz) ** 0.5\n",
    "    return r"
   ]
  },
  {
   "cell_type": "code",
   "execution_count": null,
   "metadata": {},
   "outputs": [],
   "source": [
    "def potential_numba_calculator(cluster):\n",
    "    energy = 0.0\n",
    "    for i in range(cluster.size() - 1):\n",
    "        for j in range(i + 1, cluster.size()):\n",
    "            r = distance_numba_cppyy(cluster[i], cluster[j])\n",
    "            e = lj_numba_scalar(r)\n",
    "            energy += e\n",
    "    return energy"
   ]
  },
  {
   "cell_type": "code",
   "execution_count": null,
   "metadata": {},
   "outputs": [],
   "source": [
    "def potential_calculator(cluster):\n",
    "    energy = 0.0\n",
    "    for i in range(len(cluster) - 1):\n",
    "        for j in range(i + 1, len(cluster)):\n",
    "            r = distance_python(cluster[i], cluster[j])\n",
    "            e = lj_scalar(r)\n",
    "            energy += e\n",
    "    return energy"
   ]
  },
  {
   "cell_type": "code",
   "execution_count": null,
   "metadata": {},
   "outputs": [],
   "source": [
    "potential_numba_calculator(cppyy.gbl.atoms)"
   ]
  }
 ],
 "metadata": {
  "kernelspec": {
   "display_name": ".venv",
   "language": "python",
   "name": "python3"
  },
  "language_info": {
   "codemirror_mode": {
    "name": "ipython",
    "version": 3
   },
   "file_extension": ".py",
   "mimetype": "text/x-python",
   "name": "python",
   "nbconvert_exporter": "python",
   "pygments_lexer": "ipython3",
   "version": "3.12.3"
  }
 },
 "nbformat": 4,
 "nbformat_minor": 2
}
