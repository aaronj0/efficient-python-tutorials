{
 "cells": [
  {
   "cell_type": "code",
   "execution_count": null,
   "metadata": {},
   "outputs": [],
   "source": [
    "%load_ext cython"
   ]
  },
  {
   "cell_type": "code",
   "execution_count": null,
   "metadata": {},
   "outputs": [],
   "source": [
    "%%cython -a\n",
    "\n",
    "import numpy as np\n",
    "import pandas as pd\n",
    "\n",
    "def f(x):\n",
    "    return x ** 2 - x\n",
    "\n",
    "def integrate_f(a, b, N):\n",
    "    s = 0\n",
    "    dx = (b - a) / N\n",
    "    for i in range(N):\n",
    "        s += f(a + i * dx)\n",
    "    return s * dx\n",
    "\n",
    "def apply_integrate_f(col_a, col_b, col_N):\n",
    "    n = len(col_N)\n",
    "    res = np.empty(n,dtype=np.float64)\n",
    "    for i in range(n):\n",
    "        res[i] = integrate_f(col_a[i], col_b[i], col_N[i])\n",
    "    return res\n"
   ]
  },
  {
   "cell_type": "markdown",
   "metadata": {},
   "source": [
    "To pass our series data to the cython function(expecting `double[:]`) we pass the underlying NumPy array which works nicely with Cython."
   ]
  },
  {
   "cell_type": "code",
   "execution_count": null,
   "metadata": {},
   "outputs": [],
   "source": [
    "df = pd.DataFrame({\"a\": np.random.randn(1000),\n",
    "                  \"b\": np.random.randn(1000),\n",
    "                  \"N\": np.random.randint(100, 1000, (1000))})\n",
    "\n",
    "%timeit apply_integrate_f(df['a'].to_numpy(), df['b'].to_numpy(), df['N'].to_numpy())"
   ]
  },
  {
   "cell_type": "markdown",
   "metadata": {},
   "source": [
    "Let's type annotate the function input parameters to get a first order performance gain:"
   ]
  },
  {
   "cell_type": "code",
   "execution_count": null,
   "metadata": {},
   "outputs": [],
   "source": [
    "%%cython -a\n",
    "\n",
    "import numpy as np\n",
    "import pandas as pd\n",
    "\n",
    "def f(double x):\n",
    "    return x ** 2 - x\n",
    "\n",
    "def integrate_f(double a, double b, long N):\n",
    "    s = 0\n",
    "    dx = (b - a) / N\n",
    "    for i in range(N):\n",
    "        s += f(a + i * dx)\n",
    "    return s * dx\n",
    "\n",
    "def apply_integrate_f(double[:] col_a, double[:] col_b, long[:] col_N):\n",
    "    n = len(col_N)\n",
    "    res = np.empty(n,dtype=np.float64)\n",
    "    for i in range(n):\n",
    "        res[i] = integrate_f(col_a[i], col_b[i], col_N[i])\n",
    "    return res"
   ]
  },
  {
   "cell_type": "code",
   "execution_count": null,
   "metadata": {},
   "outputs": [],
   "source": [
    "%%timeit\n",
    "\n",
    "apply_integrate_f(df['a'].to_numpy(), df['b'].to_numpy(), df['N'].to_numpy())"
   ]
  },
  {
   "cell_type": "markdown",
   "metadata": {},
   "source": [
    "Now we move on to type annotation to the functions. There are three ways of declaring functions:\n",
    "\n",
    "`def` - Python style:\n",
    "\n",
    "- Called by Python or Cython code, and both input/output are Python objects.\n",
    "\n",
    "`cdef` - C style:\n",
    "\n",
    "- Called from Cython and C, but not from Python code. Cython treats the function as pure C functions, which can take any type of arguments, including non-Python types, e.g. pointers.\n",
    "\n",
    "`cpdef` - Python/C mixed:\n",
    "\n",
    "- cpdef function combines both def and cdef. Generates a cdef function for C types and a def function for Python types. May be as fast as those using cdef and might be as slow as def declared functions."
   ]
  },
  {
   "cell_type": "code",
   "execution_count": null,
   "metadata": {},
   "outputs": [],
   "source": [
    "%%cython -a\n",
    "\n",
    "import numpy as np\n",
    "import pandas as pd\n",
    "\n",
    "cdef f(double x):\n",
    "    return x ** 2 - x\n",
    "\n",
    "cpdef integrate_f(double a, double b, long N):\n",
    "    s = 0\n",
    "    dx = (b - a) / N\n",
    "    for i in range(N):\n",
    "        s += f(a + i * dx)\n",
    "    return s * dx\n",
    "\n",
    "cpdef apply_integrate_f(double[:] col_a, double[:] col_b, long[:] col_N):\n",
    "    n = len(col_N)\n",
    "    res = np.empty(n,dtype=np.float64)\n",
    "    for i in range(n):\n",
    "        res[i] = integrate_f(col_a[i], col_b[i], col_N[i])\n",
    "    return res"
   ]
  },
  {
   "cell_type": "code",
   "execution_count": null,
   "metadata": {},
   "outputs": [],
   "source": [
    "%timeit apply_integrate_f(df['a'].to_numpy(), df['b'].to_numpy(), df['N'].to_numpy())"
   ]
  },
  {
   "cell_type": "markdown",
   "metadata": {},
   "source": [
    "The final step is type annotating variables in the function body"
   ]
  },
  {
   "cell_type": "code",
   "execution_count": null,
   "metadata": {},
   "outputs": [],
   "source": [
    "%%cython -a\n",
    "\n",
    "import numpy as np\n",
    "import pandas as pd\n",
    "\n",
    "cdef double f(double x):\n",
    "    return x ** 2 - x\n",
    "\n",
    "cpdef double integrate_f(double a, double b, long N):\n",
    "    cdef double s, dx\n",
    "    cdef long i\n",
    "    \n",
    "    s = 0\n",
    "    dx = (b - a) / N\n",
    "    for i in range(N):\n",
    "        s += f(a + i * dx)\n",
    "    return s * dx\n",
    "\n",
    "cpdef double[:] apply_integrate_f(double[:] col_a, double[:] col_b, long[:] col_N):\n",
    "    cdef long n, i\n",
    "    cdef double[:] res\n",
    "\n",
    "    n = len(col_N)\n",
    "    res = np.empty(n,dtype=np.float64)\n",
    "    for i in range(n):\n",
    "        res[i] = integrate_f(col_a[i], col_b[i], col_N[i])\n",
    "    return res"
   ]
  },
  {
   "cell_type": "code",
   "execution_count": null,
   "metadata": {},
   "outputs": [],
   "source": [
    "%timeit apply_integrate_f(df['a'].to_numpy(), df['b'].to_numpy(), df['N'].to_numpy())"
   ]
  },
  {
   "cell_type": "code",
   "execution_count": null,
   "metadata": {},
   "outputs": [],
   "source": []
  }
 ],
 "metadata": {
  "kernelspec": {
   "display_name": ".venv",
   "language": "python",
   "name": "python3"
  },
  "language_info": {
   "codemirror_mode": {
    "name": "ipython",
    "version": 3
   },
   "file_extension": ".py",
   "mimetype": "text/x-python",
   "name": "python",
   "nbconvert_exporter": "python",
   "pygments_lexer": "ipython3",
   "version": "3.12.3"
  }
 },
 "nbformat": 4,
 "nbformat_minor": 2
}
