{
 "cells": [
  {
   "cell_type": "markdown",
   "id": "0201753d-9878-4eda-8f06-cd01d39046ef",
   "metadata": {
    "editable": true,
    "slideshow": {
     "slide_type": "slide"
    },
    "tags": []
   },
   "source": [
    "Putting it all together: A final benchmark and overview"
   ]
  },
  {
   "cell_type": "code",
   "execution_count": null,
   "id": "4581e9f1",
   "metadata": {},
   "outputs": [],
   "source": [
    "def avg(lst): \n",
    "    return sum(lst.timings) / len(lst.timings) \n"
   ]
  },
  {
   "cell_type": "markdown",
   "id": "5901d264-a1c0-49f0-ac1e-43a12a805c70",
   "metadata": {
    "editable": true,
    "slideshow": {
     "slide_type": "slide"
    },
    "tags": []
   },
   "source": [
    "Array-oriented programming(e.g NumPy) connects Python with compiled code, but it's not the only way to do that(like bindings, that we previously explored)."
   ]
  },
  {
   "cell_type": "markdown",
   "id": "5a51ef39-b1ea-4b98-a478-930b3a13ff1b",
   "metadata": {
    "editable": true,
    "slideshow": {
     "slide_type": "slide"
    },
    "tags": []
   },
   "source": [
    "Although much faster than pure Python, array-oriented techniques are not as fast as imperative, compiled code."
   ]
  },
  {
   "cell_type": "code",
   "execution_count": null,
   "id": "91e6a4f4-059c-436d-9ec4-b8b7478929f1",
   "metadata": {
    "editable": true,
    "slideshow": {
     "slide_type": ""
    },
    "tags": []
   },
   "outputs": [],
   "source": [
    "%%writefile quadratic_formula_c.c\n",
    "\n",
    "#include <math.h>\n",
    "\n",
    "void run(double* a, double* b, double* c, double* output) {\n",
    "    for (int i = 0;  i < 1000000;  i++) {\n",
    "        output[i] = (-b[i] + sqrt(b[i]*b[i] - 4*a[i]*c[i])) / (2*a[i]);\n",
    "    }\n",
    "}\n"
   ]
  },
  {
   "cell_type": "code",
   "execution_count": null,
   "id": "79f49e52-794f-45ef-b46b-4c689d2f3bf4",
   "metadata": {
    "editable": true,
    "slideshow": {
     "slide_type": ""
    },
    "tags": []
   },
   "outputs": [],
   "source": [
    "!cc quadratic_formula_c.c -shared -lm -o quadratic_formula_c.so"
   ]
  },
  {
   "cell_type": "code",
   "execution_count": null,
   "id": "a0d965c0-cb0d-4005-ba41-2f96813a8b71",
   "metadata": {
    "editable": true,
    "slideshow": {
     "slide_type": ""
    },
    "tags": []
   },
   "outputs": [],
   "source": [
    "import ctypes\n",
    "import numpy as np\n",
    "\n",
    "quadratic_formula_c = ctypes.CDLL(\"./quadratic_formula_c.so\")\n",
    "quadratic_formula_c.run.argtypes = (ctypes.POINTER(ctypes.c_double),) * 4\n",
    "quadratic_formula_c.run.restype = None"
   ]
  },
  {
   "cell_type": "code",
   "execution_count": null,
   "id": "5fb26358-17b6-4e2f-84ec-e29880e66274",
   "metadata": {
    "editable": true,
    "slideshow": {
     "slide_type": "slide"
    },
    "tags": []
   },
   "outputs": [],
   "source": [
    "a = np.random.uniform(5, 10, 1000000)\n",
    "b = np.random.uniform(10, 20, 1000000)\n",
    "c = np.random.uniform(-0.1, 0.1, 1000000)"
   ]
  },
  {
   "cell_type": "code",
   "execution_count": null,
   "id": "4c86c2e0-bd45-4470-b695-22bd04ffaf49",
   "metadata": {
    "editable": true,
    "slideshow": {
     "slide_type": ""
    },
    "tags": []
   },
   "outputs": [],
   "source": [
    "output = np.zeros(1000000, dtype=np.float64)\n",
    "quadratic_formula_c.run(*[arg.ctypes.data_as(ctypes.POINTER(ctypes.c_double)) for arg in (a, b, c, output)])\n",
    "output"
   ]
  },
  {
   "cell_type": "code",
   "execution_count": null,
   "id": "cedbf713-0719-4bbe-984d-35a1f5cae1ae",
   "metadata": {
    "editable": true,
    "slideshow": {
     "slide_type": "fragment"
    },
    "tags": []
   },
   "outputs": [],
   "source": [
    "ctypes_time = %timeit -o quadratic_formula_c.run(*[arg.ctypes.data_as(ctypes.POINTER(ctypes.c_double)) for arg in (a, b, c, output)])"
   ]
  },
  {
   "cell_type": "markdown",
   "id": "58b921ba-f5f2-4415-879e-f4fe68fbb4cb",
   "metadata": {
    "editable": true,
    "slideshow": {
     "slide_type": ""
    },
    "tags": []
   },
   "source": [
    "In Pure Python it would look like:"
   ]
  },
  {
   "cell_type": "code",
   "execution_count": null,
   "id": "d38854c3",
   "metadata": {},
   "outputs": [],
   "source": [
    "import math\n",
    "\n",
    "def run(a, b, c):\n",
    "    output = []\n",
    "    for i in range(len(a)):\n",
    "        output.append((-b[i] + math.sqrt(b[i]*b[i] - 4*a[i]*c[i])) / (2*a[i]))\n",
    "    return output"
   ]
  },
  {
   "cell_type": "code",
   "execution_count": null,
   "id": "2a3cbbbf",
   "metadata": {},
   "outputs": [],
   "source": [
    "py_time = %timeit -o run(a, b, c)"
   ]
  },
  {
   "cell_type": "markdown",
   "id": "7a69d373",
   "metadata": {},
   "source": [
    "Let's look at memory:"
   ]
  },
  {
   "cell_type": "code",
   "execution_count": null,
   "id": "7fefbfe9",
   "metadata": {},
   "outputs": [],
   "source": [
    "%%memit\n",
    "\n",
    "run(a, b, c)"
   ]
  },
  {
   "cell_type": "markdown",
   "id": "7b796ddb",
   "metadata": {},
   "source": [
    "NumPy is fast but not much better with memory:"
   ]
  },
  {
   "cell_type": "code",
   "execution_count": null,
   "id": "4cb12cd5",
   "metadata": {},
   "outputs": [],
   "source": [
    "%load_ext memory_profiler"
   ]
  },
  {
   "cell_type": "code",
   "execution_count": null,
   "id": "87ae2613",
   "metadata": {},
   "outputs": [],
   "source": [
    "%%memit\n",
    "\n",
    "(-b + np.sqrt(b**2 - 4*a*c)) / (2*a)"
   ]
  },
  {
   "cell_type": "markdown",
   "id": "09405125",
   "metadata": {},
   "source": [
    "Why? NumPy allocates a new array for each intermediate step.\n",
    "\n",
    "* Memory allocation is expensive (`malloc` has to search for unused memory).\n",
    "* Accessing different memory is expensive (the CPU can't re-use its cache, and acessing RAM is much slower than most mathematical operations).\n",
    "\n",
    "To calculate the first expression, NumPy takes the steps shown in the second:"
   ]
  },
  {
   "cell_type": "code",
   "execution_count": null,
   "id": "65f9d2a2-e776-4a4c-a915-9008b6703be0",
   "metadata": {
    "editable": true,
    "slideshow": {
     "slide_type": ""
    },
    "tags": []
   },
   "outputs": [],
   "source": [
    "tmp1 = np.negative(b)            # -b\n",
    "tmp2 = np.square(b)              # b**2\n",
    "tmp3 = np.multiply(4, a)         # 4*a\n",
    "tmp4 = np.multiply(tmp3, c)      # tmp3*c\n",
    "del tmp3\n",
    "tmp5 = np.subtract(tmp2, tmp4)   # tmp2 - tmp4\n",
    "del tmp2, tmp4\n",
    "tmp6 = np.sqrt(tmp5)             # sqrt(tmp5)\n",
    "del tmp5\n",
    "tmp7 = np.add(tmp1, tmp6)        # tmp1 + tmp6\n",
    "del tmp1, tmp6\n",
    "tmp8 = np.multiply(2, a)         # 2*a\n",
    "np.divide(tmp7, tmp8)            # tmp7 / tmp8     This is the result!"
   ]
  },
  {
   "cell_type": "code",
   "execution_count": null,
   "id": "3f3a7315",
   "metadata": {},
   "outputs": [],
   "source": [
    "np_time = %timeit -o (-b + np.sqrt(b**2 - 4*a*c)) / (2*a)"
   ]
  },
  {
   "cell_type": "markdown",
   "id": "1abd3e68",
   "metadata": {},
   "source": [
    "### Let's try Cython now"
   ]
  },
  {
   "cell_type": "code",
   "execution_count": null,
   "id": "b5f2540d",
   "metadata": {},
   "outputs": [],
   "source": [
    "%load_ext cython"
   ]
  },
  {
   "cell_type": "code",
   "execution_count": null,
   "id": "abfa831f",
   "metadata": {},
   "outputs": [],
   "source": [
    "%%cython -a\n",
    "\n",
    "from libc.math cimport sqrt\n",
    "\n",
    "cpdef quadractic_cython(double[:] a, double[:] b, double[:] c, double[:] out):\n",
    "        n = len(a)\n",
    "        for i in range(n):\n",
    "            out[i] = (-b[i] + sqrt(b[i]*b[i] - 4*a[i]*c[i])) / (2*a[i])"
   ]
  },
  {
   "cell_type": "code",
   "execution_count": null,
   "id": "c2daf840",
   "metadata": {},
   "outputs": [],
   "source": [
    "cython_time = %timeit -o quadractic_cython(a, b, c, output)"
   ]
  },
  {
   "cell_type": "code",
   "execution_count": null,
   "id": "376538cc",
   "metadata": {},
   "outputs": [],
   "source": [
    "output"
   ]
  },
  {
   "cell_type": "markdown",
   "id": "30b67629-5c90-47e1-a5ba-426d3aaecd3e",
   "metadata": {
    "editable": true,
    "slideshow": {
     "slide_type": "slide"
    },
    "tags": []
   },
   "source": [
    "Best way to make C++ extensions for Python: pybind11"
   ]
  },
  {
   "cell_type": "code",
   "execution_count": null,
   "id": "4085fa67-f986-4056-894a-fa08b37779c6",
   "metadata": {
    "editable": true,
    "slideshow": {
     "slide_type": ""
    },
    "tags": []
   },
   "outputs": [],
   "source": [
    "%%writefile quadratic_formula_pybind11.cpp\n",
    "\n",
    "#include <pybind11/pybind11.h>\n",
    "#include <pybind11/numpy.h>\n",
    "namespace py = pybind11;\n",
    "\n",
    "void run(py::array_t<double, py::array::c_style | py::array::forcecast> a_numpy,\n",
    "         py::array_t<double, py::array::c_style | py::array::forcecast> b_numpy,\n",
    "         py::array_t<double, py::array::c_style | py::array::forcecast> c_numpy,\n",
    "         py::array_t<double> output_numpy) {\n",
    "    const double* a = a_numpy.data();\n",
    "    const double* b = b_numpy.data();\n",
    "    const double* c = c_numpy.data();\n",
    "    double* output = output_numpy.mutable_data();\n",
    "    for (int i = 0;  i < output_numpy.size();  i++) {\n",
    "        output[i] = (-b[i] + sqrt(b[i]*b[i] - 4*a[i]*c[i])) / (2*a[i]);\n",
    "    }\n",
    "}\n",
    "\n",
    "PYBIND11_MODULE(quadratic_formula_pybind11, m) {\n",
    "    m.def(\"run\", &run);\n",
    "}"
   ]
  },
  {
   "cell_type": "code",
   "execution_count": null,
   "id": "264cd1d3-cc54-4413-8cb9-7f69c38d1b58",
   "metadata": {
    "editable": true,
    "slideshow": {
     "slide_type": ""
    },
    "tags": []
   },
   "outputs": [],
   "source": [
    "import os\n",
    "import sys\n",
    "from pybind11 import get_include\n",
    "\n",
    "inc = \"-I \" + get_include()\n",
    "plat = \"-undefined dynamic_lookup\" if \"darwin\" in sys.platform else \"-fPIC\"\n",
    "pyinc = !python3-config --cflags"
   ]
  },
  {
   "cell_type": "code",
   "execution_count": null,
   "id": "37c14e3a-ece8-4984-8b46-a5c8d22c1646",
   "metadata": {
    "editable": true,
    "slideshow": {
     "slide_type": ""
    },
    "tags": []
   },
   "outputs": [],
   "source": [
    "!c++ -std=c++11 quadratic_formula_pybind11.cpp -shared {inc} {pyinc.s} -o quadratic_formula_pybind11.so {plat}"
   ]
  },
  {
   "cell_type": "code",
   "execution_count": null,
   "id": "04918033-e6a0-4384-acbb-ebbb2e86a581",
   "metadata": {
    "editable": true,
    "slideshow": {
     "slide_type": "slide"
    },
    "tags": []
   },
   "outputs": [],
   "source": [
    "import quadratic_formula_pybind11"
   ]
  },
  {
   "cell_type": "code",
   "execution_count": null,
   "id": "914a45ab-67db-4ef0-bb5a-20b3f04a80d6",
   "metadata": {
    "editable": true,
    "slideshow": {
     "slide_type": ""
    },
    "tags": []
   },
   "outputs": [],
   "source": [
    "output = np.zeros(1000000, dtype=np.float64)\n",
    "quadratic_formula_pybind11.run(a, b, c, output)\n",
    "output"
   ]
  },
  {
   "cell_type": "code",
   "execution_count": null,
   "id": "8f718827-d128-4272-b543-170ccf1cab88",
   "metadata": {
    "editable": true,
    "slideshow": {
     "slide_type": ""
    },
    "tags": []
   },
   "outputs": [],
   "source": [
    "pybind_time = %timeit -o quadratic_formula_pybind11.run(a, b, c, output)"
   ]
  },
  {
   "cell_type": "markdown",
   "id": "4bf7ce2e-046f-45bb-8b2c-8d9c99a1573e",
   "metadata": {
    "editable": true,
    "slideshow": {
     "slide_type": "slide"
    },
    "tags": []
   },
   "source": [
    "Leaving Python, writing C++ code, and then importing it* is fine for a long-term project, like a library that will be used many times, but it's inconvenient in the middle of a data analysis."
   ]
  },
  {
   "cell_type": "markdown",
   "id": "de872785-68be-471c-b89b-90c8430203a2",
   "metadata": {
    "editable": true,
    "slideshow": {
     "slide_type": "fragment"
    },
    "tags": []
   },
   "source": [
    "*If we change the C++, recompile, and do\n",
    "\n",
    "```python\n",
    "import quadratic_formula_pybind11\n",
    "```\n",
    "\n",
    "again, we will _not_ get the new version. We would still have the old version, with no error messages or warnings!"
   ]
  },
  {
   "cell_type": "markdown",
   "id": "80bf5e1a-0dc0-48ca-b285-74ad135187f0",
   "metadata": {
    "editable": true,
    "slideshow": {
     "slide_type": "slide"
    },
    "tags": []
   },
   "source": [
    "### JIT with LLVM: Numba"
   ]
  },
  {
   "cell_type": "code",
   "execution_count": null,
   "id": "1b6482cf-e2e1-4b8c-ac3f-5136dfb3b40e",
   "metadata": {
    "editable": true,
    "slideshow": {
     "slide_type": ""
    },
    "tags": []
   },
   "outputs": [],
   "source": [
    "import numba as nb"
   ]
  },
  {
   "cell_type": "code",
   "execution_count": null,
   "id": "4573a72c-a4af-4e9a-848e-0018270ead6d",
   "metadata": {
    "editable": true,
    "slideshow": {
     "slide_type": ""
    },
    "tags": []
   },
   "outputs": [],
   "source": [
    "@nb.njit\n",
    "def quadratic_formula_numba(a, b, c):\n",
    "    output = np.empty(len(a), dtype=np.float64)\n",
    "    for i, (a_i, b_i, c_i) in enumerate(zip(a, b, c)):\n",
    "        output[i] = (-b_i + np.sqrt(b_i**2 - 4*a_i*c_i)) / (2*a_i)\n",
    "    return output\n",
    "\n",
    "quadratic_formula_numba(a, b, c)"
   ]
  },
  {
   "cell_type": "code",
   "execution_count": null,
   "id": "c5d2746b-08b1-497c-81ae-36f4a5037882",
   "metadata": {
    "editable": true,
    "slideshow": {
     "slide_type": "fragment"
    },
    "tags": []
   },
   "outputs": [],
   "source": [
    "nb_time = %timeit -o quadratic_formula_numba(a, b, c)"
   ]
  },
  {
   "cell_type": "markdown",
   "id": "5d3f326f-5cdf-4ca2-91be-2ae2600cccf0",
   "metadata": {
    "editable": true,
    "slideshow": {
     "slide_type": "slide"
    },
    "tags": []
   },
   "source": [
    "Bonus: JAX is a JIT compiler for _array-oriented_ Python."
   ]
  },
  {
   "cell_type": "code",
   "execution_count": null,
   "id": "be255b05-d282-4da9-81e4-bf64e81a15d8",
   "metadata": {
    "editable": true,
    "slideshow": {
     "slide_type": ""
    },
    "tags": []
   },
   "outputs": [],
   "source": [
    "import jax\n",
    "jax.config.update(\"jax_platform_name\", \"cpu\")"
   ]
  },
  {
   "cell_type": "code",
   "execution_count": null,
   "id": "f7a9761e-b4d2-4001-afe2-8742cbd2e9b1",
   "metadata": {
    "editable": true,
    "slideshow": {
     "slide_type": ""
    },
    "tags": []
   },
   "outputs": [],
   "source": [
    "@jax.jit\n",
    "def quadratic_formula_jax(a, b, c):\n",
    "    return (-b + jax.numpy.sqrt(b**2 - 4*a*c)) / (2*a)\n",
    "\n",
    "quadratic_formula_jax(a, b, c)"
   ]
  },
  {
   "cell_type": "code",
   "execution_count": null,
   "id": "1b88a0a8-43fb-4d19-b33b-ef9ab5c0bbd3",
   "metadata": {
    "editable": true,
    "slideshow": {
     "slide_type": "fragment"
    },
    "tags": []
   },
   "outputs": [],
   "source": [
    "jax_time = %timeit -o quadratic_formula_jax(a, b, c)"
   ]
  },
  {
   "cell_type": "code",
   "execution_count": null,
   "id": "eb1cdd99",
   "metadata": {},
   "outputs": [],
   "source": [
    "avg(jax_time)"
   ]
  },
  {
   "cell_type": "markdown",
   "id": "f663096e",
   "metadata": {},
   "source": [
    "cppyy:"
   ]
  },
  {
   "cell_type": "code",
   "execution_count": null,
   "id": "14d9977e",
   "metadata": {},
   "outputs": [],
   "source": [
    "import cppyy\n",
    "cppyy.cppdef('''void run(double* a, double* b, double* c, double* output) {\n",
    "    for (int i = 0;  i < 1000000;  i++) {\n",
    "        output[i] = (-b[i] + sqrt(b[i]*b[i] - 4*a[i]*c[i])) / (2*a[i]);\n",
    "    }\n",
    "}\n",
    "''')"
   ]
  },
  {
   "cell_type": "code",
   "execution_count": null,
   "id": "0c89979f",
   "metadata": {},
   "outputs": [],
   "source": [
    "# double * from NumPy\n",
    "x = a.ctypes.data_as(ctypes.POINTER(ctypes.c_double))\n",
    "y = b.ctypes.data_as(ctypes.POINTER(ctypes.c_double))\n",
    "z = c.ctypes.data_as(ctypes.POINTER(ctypes.c_double))\n",
    "cppyy_out = output.ctypes.data_as(ctypes.POINTER(ctypes.c_double))"
   ]
  },
  {
   "cell_type": "code",
   "execution_count": null,
   "id": "2d5f9214",
   "metadata": {},
   "outputs": [],
   "source": [
    "cppyy_time = %timeit -o cppyy.gbl.run(x, y, z, cppyy_out)"
   ]
  },
  {
   "cell_type": "code",
   "execution_count": null,
   "id": "14664481",
   "metadata": {},
   "outputs": [],
   "source": [
    "# NumPy from double *\n",
    "np.ctypeslib.as_array(cppyy_out, shape = (1000000,))"
   ]
  },
  {
   "cell_type": "code",
   "execution_count": null,
   "id": "c0903b85",
   "metadata": {},
   "outputs": [],
   "source": [
    "import matplotlib.pyplot as plt\n",
    "\n",
    "test_names = [\n",
    "    'Python \"for\" loops: imperative',\n",
    "    'NumPy: array-oriented',\n",
    "    'pybind11: imperative in C++',\n",
    "    'Cython: imperative in a C++/Python hybrid',\n",
    "    'Numba: imperative in a compiled subset of Python',\n",
    "    \"JAX: array-oriented with automatic fusion into JIT-compiled routines on CPU\",\n",
    "    \"Cppyy: Automatic, C++ JIT with Clang\"\n",
    "]\n",
    "test_results = np.array([\n",
    "    avg(py_time),\n",
    "    avg(np_time),\n",
    "    avg(pybind_time),\n",
    "    avg(cython_time),\n",
    "    avg(nb_time),\n",
    "    avg(jax_time),\n",
    "    avg(cppyy_time)\n",
    "])\n",
    "\n",
    "# Creating the plot\n",
    "plt.figure(figsize=(10, 6))\n",
    "plt.barh(test_names, test_results, color='blue')\n",
    "plt.xlabel('Average Execution Time (s)')\n",
    "plt.ylabel('Benchmark Test')\n",
    "plt.title('Benchmark Execution Time for Different Methods')\n",
    "plt.gca().invert_yaxis()  # Invert y-axis to have the fastest method at the top\n",
    "plt.show()"
   ]
  }
 ],
 "metadata": {
  "kernelspec": {
   "display_name": "Python 3 (ipykernel)",
   "language": "python",
   "name": "python3"
  },
  "language_info": {
   "codemirror_mode": {
    "name": "ipython",
    "version": 3
   },
   "file_extension": ".py",
   "mimetype": "text/x-python",
   "name": "python",
   "nbconvert_exporter": "python",
   "pygments_lexer": "ipython3",
   "version": "3.12.1"
  }
 },
 "nbformat": 4,
 "nbformat_minor": 5
}
